{
  "cells": [
    {
      "cell_type": "markdown",
      "metadata": {
        "id": "view-in-github",
        "colab_type": "text"
      },
      "source": [
        "<a href=\"https://colab.research.google.com/github/mahima1633/Medical_NER/blob/main/Clinical_NER.ipynb\" target=\"_parent\"><img src=\"https://colab.research.google.com/assets/colab-badge.svg\" alt=\"Open In Colab\"/></a>"
      ]
    },
    {
      "cell_type": "markdown",
      "metadata": {
        "id": "2NdRitT8329p"
      },
      "source": [
        "**Building Custom Named Entity Recognition Model Using Spacy**"
      ]
    },
    {
      "cell_type": "code",
      "execution_count": null,
      "metadata": {
        "id": "FFOiNNeP0giN"
      },
      "outputs": [],
      "source": [
        "import spacy"
      ]
    },
    {
      "cell_type": "code",
      "execution_count": null,
      "metadata": {
        "id": "enIOTr8y6hf9",
        "colab": {
          "base_uri": "https://localhost:8080/"
        },
        "outputId": "9dd21d5c-aa9a-4e70-df58-b5927ad3f363"
      },
      "outputs": [
        {
          "output_type": "stream",
          "name": "stdout",
          "text": [
            "2023-12-21 06:02:32.094866: E external/local_xla/xla/stream_executor/cuda/cuda_dnn.cc:9261] Unable to register cuDNN factory: Attempting to register factory for plugin cuDNN when one has already been registered\n",
            "2023-12-21 06:02:32.094950: E external/local_xla/xla/stream_executor/cuda/cuda_fft.cc:607] Unable to register cuFFT factory: Attempting to register factory for plugin cuFFT when one has already been registered\n",
            "2023-12-21 06:02:32.096739: E external/local_xla/xla/stream_executor/cuda/cuda_blas.cc:1515] Unable to register cuBLAS factory: Attempting to register factory for plugin cuBLAS when one has already been registered\n",
            "2023-12-21 06:02:33.569279: W tensorflow/compiler/tf2tensorrt/utils/py_utils.cc:38] TF-TRT Warning: Could not find TensorRT\n",
            "Collecting en-core-web-lg==3.6.0\n",
            "  Downloading https://github.com/explosion/spacy-models/releases/download/en_core_web_lg-3.6.0/en_core_web_lg-3.6.0-py3-none-any.whl (587.7 MB)\n",
            "\u001b[2K     \u001b[90m━━━━━━━━━━━━━━━━━━━━━━━━━━━━━━━━━━━━━━━━\u001b[0m \u001b[32m587.7/587.7 MB\u001b[0m \u001b[31m1.8 MB/s\u001b[0m eta \u001b[36m0:00:00\u001b[0m\n",
            "\u001b[?25hRequirement already satisfied: spacy<3.7.0,>=3.6.0 in /usr/local/lib/python3.10/dist-packages (from en-core-web-lg==3.6.0) (3.6.1)\n",
            "Requirement already satisfied: spacy-legacy<3.1.0,>=3.0.11 in /usr/local/lib/python3.10/dist-packages (from spacy<3.7.0,>=3.6.0->en-core-web-lg==3.6.0) (3.0.12)\n",
            "Requirement already satisfied: spacy-loggers<2.0.0,>=1.0.0 in /usr/local/lib/python3.10/dist-packages (from spacy<3.7.0,>=3.6.0->en-core-web-lg==3.6.0) (1.0.5)\n",
            "Requirement already satisfied: murmurhash<1.1.0,>=0.28.0 in /usr/local/lib/python3.10/dist-packages (from spacy<3.7.0,>=3.6.0->en-core-web-lg==3.6.0) (1.0.10)\n",
            "Requirement already satisfied: cymem<2.1.0,>=2.0.2 in /usr/local/lib/python3.10/dist-packages (from spacy<3.7.0,>=3.6.0->en-core-web-lg==3.6.0) (2.0.8)\n",
            "Requirement already satisfied: preshed<3.1.0,>=3.0.2 in /usr/local/lib/python3.10/dist-packages (from spacy<3.7.0,>=3.6.0->en-core-web-lg==3.6.0) (3.0.9)\n",
            "Requirement already satisfied: thinc<8.2.0,>=8.1.8 in /usr/local/lib/python3.10/dist-packages (from spacy<3.7.0,>=3.6.0->en-core-web-lg==3.6.0) (8.1.12)\n",
            "Requirement already satisfied: wasabi<1.2.0,>=0.9.1 in /usr/local/lib/python3.10/dist-packages (from spacy<3.7.0,>=3.6.0->en-core-web-lg==3.6.0) (1.1.2)\n",
            "Requirement already satisfied: srsly<3.0.0,>=2.4.3 in /usr/local/lib/python3.10/dist-packages (from spacy<3.7.0,>=3.6.0->en-core-web-lg==3.6.0) (2.4.8)\n",
            "Requirement already satisfied: catalogue<2.1.0,>=2.0.6 in /usr/local/lib/python3.10/dist-packages (from spacy<3.7.0,>=3.6.0->en-core-web-lg==3.6.0) (2.0.10)\n",
            "Requirement already satisfied: typer<0.10.0,>=0.3.0 in /usr/local/lib/python3.10/dist-packages (from spacy<3.7.0,>=3.6.0->en-core-web-lg==3.6.0) (0.9.0)\n",
            "Requirement already satisfied: pathy>=0.10.0 in /usr/local/lib/python3.10/dist-packages (from spacy<3.7.0,>=3.6.0->en-core-web-lg==3.6.0) (0.10.3)\n",
            "Requirement already satisfied: smart-open<7.0.0,>=5.2.1 in /usr/local/lib/python3.10/dist-packages (from spacy<3.7.0,>=3.6.0->en-core-web-lg==3.6.0) (6.4.0)\n",
            "Requirement already satisfied: tqdm<5.0.0,>=4.38.0 in /usr/local/lib/python3.10/dist-packages (from spacy<3.7.0,>=3.6.0->en-core-web-lg==3.6.0) (4.66.1)\n",
            "Requirement already satisfied: numpy>=1.15.0 in /usr/local/lib/python3.10/dist-packages (from spacy<3.7.0,>=3.6.0->en-core-web-lg==3.6.0) (1.23.5)\n",
            "Requirement already satisfied: requests<3.0.0,>=2.13.0 in /usr/local/lib/python3.10/dist-packages (from spacy<3.7.0,>=3.6.0->en-core-web-lg==3.6.0) (2.31.0)\n",
            "Requirement already satisfied: pydantic!=1.8,!=1.8.1,<3.0.0,>=1.7.4 in /usr/local/lib/python3.10/dist-packages (from spacy<3.7.0,>=3.6.0->en-core-web-lg==3.6.0) (1.10.13)\n",
            "Requirement already satisfied: jinja2 in /usr/local/lib/python3.10/dist-packages (from spacy<3.7.0,>=3.6.0->en-core-web-lg==3.6.0) (3.1.2)\n",
            "Requirement already satisfied: setuptools in /usr/local/lib/python3.10/dist-packages (from spacy<3.7.0,>=3.6.0->en-core-web-lg==3.6.0) (67.7.2)\n",
            "Requirement already satisfied: packaging>=20.0 in /usr/local/lib/python3.10/dist-packages (from spacy<3.7.0,>=3.6.0->en-core-web-lg==3.6.0) (23.2)\n",
            "Requirement already satisfied: langcodes<4.0.0,>=3.2.0 in /usr/local/lib/python3.10/dist-packages (from spacy<3.7.0,>=3.6.0->en-core-web-lg==3.6.0) (3.3.0)\n",
            "Requirement already satisfied: typing-extensions>=4.2.0 in /usr/local/lib/python3.10/dist-packages (from pydantic!=1.8,!=1.8.1,<3.0.0,>=1.7.4->spacy<3.7.0,>=3.6.0->en-core-web-lg==3.6.0) (4.5.0)\n",
            "Requirement already satisfied: charset-normalizer<4,>=2 in /usr/local/lib/python3.10/dist-packages (from requests<3.0.0,>=2.13.0->spacy<3.7.0,>=3.6.0->en-core-web-lg==3.6.0) (3.3.2)\n",
            "Requirement already satisfied: idna<4,>=2.5 in /usr/local/lib/python3.10/dist-packages (from requests<3.0.0,>=2.13.0->spacy<3.7.0,>=3.6.0->en-core-web-lg==3.6.0) (3.6)\n",
            "Requirement already satisfied: urllib3<3,>=1.21.1 in /usr/local/lib/python3.10/dist-packages (from requests<3.0.0,>=2.13.0->spacy<3.7.0,>=3.6.0->en-core-web-lg==3.6.0) (2.0.7)\n",
            "Requirement already satisfied: certifi>=2017.4.17 in /usr/local/lib/python3.10/dist-packages (from requests<3.0.0,>=2.13.0->spacy<3.7.0,>=3.6.0->en-core-web-lg==3.6.0) (2023.11.17)\n",
            "Requirement already satisfied: blis<0.8.0,>=0.7.8 in /usr/local/lib/python3.10/dist-packages (from thinc<8.2.0,>=8.1.8->spacy<3.7.0,>=3.6.0->en-core-web-lg==3.6.0) (0.7.11)\n",
            "Requirement already satisfied: confection<1.0.0,>=0.0.1 in /usr/local/lib/python3.10/dist-packages (from thinc<8.2.0,>=8.1.8->spacy<3.7.0,>=3.6.0->en-core-web-lg==3.6.0) (0.1.4)\n",
            "Requirement already satisfied: click<9.0.0,>=7.1.1 in /usr/local/lib/python3.10/dist-packages (from typer<0.10.0,>=0.3.0->spacy<3.7.0,>=3.6.0->en-core-web-lg==3.6.0) (8.1.7)\n",
            "Requirement already satisfied: MarkupSafe>=2.0 in /usr/local/lib/python3.10/dist-packages (from jinja2->spacy<3.7.0,>=3.6.0->en-core-web-lg==3.6.0) (2.1.3)\n",
            "\u001b[38;5;2m✔ Download and installation successful\u001b[0m\n",
            "You can now load the package via spacy.load('en_core_web_lg')\n"
          ]
        }
      ],
      "source": [
        "# !python -m spacy download en_core_web_sm\n",
        "!python -m spacy download en_core_web_lg"
      ]
    },
    {
      "cell_type": "code",
      "execution_count": null,
      "metadata": {
        "id": "GGlQY8Ro2hw6",
        "colab": {
          "base_uri": "https://localhost:8080/"
        },
        "outputId": "789a6d6b-fa5d-498d-b0b0-eae768091457"
      },
      "outputs": [
        {
          "output_type": "execute_result",
          "data": {
            "text/plain": [
              "<spacy.lang.en.English at 0x7f71883bad40>"
            ]
          },
          "metadata": {},
          "execution_count": 66
        }
      ],
      "source": [
        "nlp = spacy.load(\"en_core_web_lg\")\n",
        "nlp"
      ]
    },
    {
      "cell_type": "code",
      "execution_count": null,
      "metadata": {
        "id": "uGingzbmvgnL"
      },
      "outputs": [],
      "source": [
        "doc = nlp(\"Narendra Modi is PM of India\")"
      ]
    },
    {
      "cell_type": "code",
      "execution_count": null,
      "metadata": {
        "id": "OFPOI7gY-ha4",
        "colab": {
          "base_uri": "https://localhost:8080/"
        },
        "outputId": "eed8edf0-6498-492b-c90f-1ed8ceb09c9c"
      },
      "outputs": [
        {
          "output_type": "execute_result",
          "data": {
            "text/plain": [
              "Narendra Modi is PM of India"
            ]
          },
          "metadata": {},
          "execution_count": 68
        }
      ],
      "source": [
        "doc"
      ]
    },
    {
      "cell_type": "code",
      "execution_count": null,
      "metadata": {
        "id": "NWrodKDk-jwc",
        "colab": {
          "base_uri": "https://localhost:8080/"
        },
        "outputId": "a69d21ca-c9bc-44ca-b6b5-f1252fbb96b4"
      },
      "outputs": [
        {
          "output_type": "execute_result",
          "data": {
            "text/plain": [
              "spacy.tokens.doc.Doc"
            ]
          },
          "metadata": {},
          "execution_count": 69
        }
      ],
      "source": [
        "type(doc)"
      ]
    },
    {
      "cell_type": "code",
      "execution_count": null,
      "metadata": {
        "id": "y7WS3fl38D_0",
        "colab": {
          "base_uri": "https://localhost:8080/"
        },
        "outputId": "bf240680-3973-4d0f-a703-251ce91c0c3c"
      },
      "outputs": [
        {
          "output_type": "execute_result",
          "data": {
            "text/plain": [
              "(Narendra Modi, India)"
            ]
          },
          "metadata": {},
          "execution_count": 70
        }
      ],
      "source": [
        "doc.ents"
      ]
    },
    {
      "cell_type": "code",
      "execution_count": null,
      "metadata": {
        "id": "AovSOSmKvlz9",
        "colab": {
          "base_uri": "https://localhost:8080/"
        },
        "outputId": "b73f6db3-e30f-49ab-e2cc-2ee2ee2f48e2"
      },
      "outputs": [
        {
          "output_type": "execute_result",
          "data": {
            "text/plain": [
              "(Narendra Modi, spacy.tokens.span.Span)"
            ]
          },
          "metadata": {},
          "execution_count": 71
        }
      ],
      "source": [
        "doc.ents[0], type(doc.ents[0])"
      ]
    },
    {
      "cell_type": "code",
      "execution_count": null,
      "metadata": {
        "id": "BzLvB6habfN_",
        "colab": {
          "base_uri": "https://localhost:8080/"
        },
        "outputId": "1e0ec4f6-18bc-447f-a822-c00b62ecfb5f"
      },
      "outputs": [
        {
          "data": {
            "text/plain": [
              "(influenza, spacy.tokens.span.Span)"
            ]
          },
          "execution_count": 62,
          "metadata": {},
          "output_type": "execute_result"
        }
      ],
      "source": [
        "doc.ents[1], type(doc.ents[1])"
      ]
    },
    {
      "cell_type": "code",
      "execution_count": null,
      "metadata": {
        "id": "5ou7-MtW8gXW"
      },
      "outputs": [],
      "source": [
        "from spacy import displacy\n",
        "displacy.render(doc, style=\"ent\", jupyter=True)"
      ]
    },
    {
      "cell_type": "code",
      "execution_count": null,
      "metadata": {
        "id": "_QIeRdwg21l6"
      },
      "outputs": [],
      "source": [
        "import json\n",
        "# https://www.kaggle.com/datasets/finalepoch/medical-ner\n",
        "with open('/content/Corona2.json', 'r') as f:\n",
        "    data = json.load(f)"
      ]
    },
    {
      "cell_type": "code",
      "execution_count": null,
      "metadata": {
        "id": "GtksxtBq3y1i"
      },
      "outputs": [],
      "source": [
        "data['examples'][0]"
      ]
    },
    {
      "cell_type": "code",
      "execution_count": null,
      "metadata": {
        "id": "cPWB_Mko4OiP"
      },
      "outputs": [],
      "source": [
        "data['examples'][0].keys()"
      ]
    },
    {
      "cell_type": "code",
      "execution_count": null,
      "metadata": {
        "id": "v9cdB6C99Jym"
      },
      "outputs": [],
      "source": [
        "\n",
        "data['examples'][0]['content']"
      ]
    },
    {
      "cell_type": "code",
      "execution_count": null,
      "metadata": {
        "id": "uQbKf0Ry9Opx"
      },
      "outputs": [],
      "source": [
        "\n",
        "data['examples'][0]['annotations'][0]"
      ]
    },
    {
      "cell_type": "code",
      "execution_count": null,
      "metadata": {
        "id": "gXS3_RsQ3PuP"
      },
      "outputs": [],
      "source": [
        "training_data = []\n",
        "for example in data['examples']:\n",
        "  temp_dict = {}\n",
        "  temp_dict['text'] = example['content']\n",
        "  temp_dict['entities'] = []\n",
        "  for annotation in example['annotations']:\n",
        "    start = annotation['start']\n",
        "    end = annotation['end']\n",
        "    label = annotation['tag_name'].upper()\n",
        "    temp_dict['entities'].append((start, end, label))\n",
        "  training_data.append(temp_dict)\n",
        "\n",
        "print(training_data[0])"
      ]
    },
    {
      "cell_type": "code",
      "execution_count": null,
      "metadata": {
        "id": "oOvb8JZI3doC"
      },
      "outputs": [],
      "source": [
        "training_data[0]['text']"
      ]
    },
    {
      "cell_type": "code",
      "execution_count": null,
      "metadata": {
        "id": "a1vLiWdK3ma6"
      },
      "outputs": [],
      "source": [
        "training_data[0]['entities']"
      ]
    },
    {
      "cell_type": "code",
      "execution_count": null,
      "metadata": {
        "id": "vWYU8pQ83zmg"
      },
      "outputs": [],
      "source": [
        "training_data[0]['text'][360:371]"
      ]
    },
    {
      "cell_type": "code",
      "execution_count": null,
      "metadata": {
        "id": "ZrbrxWEi3qLJ"
      },
      "outputs": [],
      "source": [
        "from spacy.tokens import DocBin\n",
        "from tqdm import tqdm\n",
        "\n",
        "nlp = spacy.blank(\"en\") # load a new spacy model\n",
        "doc_bin = DocBin()"
      ]
    },
    {
      "cell_type": "code",
      "execution_count": null,
      "metadata": {
        "id": "jBd4mdq039Ag"
      },
      "outputs": [],
      "source": [
        "from spacy.util import filter_spans\n",
        "\n",
        "for training_example  in tqdm(training_data):\n",
        "    text = training_example['text']\n",
        "    labels = training_example['entities']\n",
        "    doc = nlp.make_doc(text)\n",
        "    ents = []\n",
        "    for start, end, label in labels:\n",
        "        span = doc.char_span(start, end, label=label, alignment_mode=\"contract\")\n",
        "        if span is None:\n",
        "            print(\"Skipping entity\")\n",
        "        else:\n",
        "            ents.append(span)\n",
        "    filtered_ents = filter_spans(ents)\n",
        "    doc.ents = filtered_ents\n",
        "    doc_bin.add(doc)\n",
        "\n",
        "doc_bin.to_disk(\"train.spacy\")"
      ]
    },
    {
      "cell_type": "code",
      "execution_count": null,
      "metadata": {
        "id": "0AqYeEoS4avo"
      },
      "outputs": [],
      "source": [
        "# https://spacy.io/usage/training#quickstart"
      ]
    },
    {
      "cell_type": "code",
      "execution_count": null,
      "metadata": {
        "id": "gyg-6DXU5Dhu"
      },
      "outputs": [],
      "source": [
        "!python -m spacy init fill-config base_config.cfg config.cfg"
      ]
    },
    {
      "cell_type": "code",
      "execution_count": null,
      "metadata": {
        "id": "xwoa711K5GuG",
        "colab": {
          "base_uri": "https://localhost:8080/"
        },
        "outputId": "5a733309-7d60-45ca-e158-a623942a56d2"
      },
      "outputs": [
        {
          "output_type": "stream",
          "name": "stdout",
          "text": [
            "2023-12-21 05:16:47.100948: E external/local_xla/xla/stream_executor/cuda/cuda_dnn.cc:9261] Unable to register cuDNN factory: Attempting to register factory for plugin cuDNN when one has already been registered\n",
            "2023-12-21 05:16:47.101023: E external/local_xla/xla/stream_executor/cuda/cuda_fft.cc:607] Unable to register cuFFT factory: Attempting to register factory for plugin cuFFT when one has already been registered\n",
            "2023-12-21 05:16:47.102547: E external/local_xla/xla/stream_executor/cuda/cuda_blas.cc:1515] Unable to register cuBLAS factory: Attempting to register factory for plugin cuBLAS when one has already been registered\n",
            "2023-12-21 05:16:48.527527: W tensorflow/compiler/tf2tensorrt/utils/py_utils.cc:38] TF-TRT Warning: Could not find TensorRT\n",
            "\u001b[38;5;4mℹ Saving to output directory: .\u001b[0m\n",
            "\u001b[38;5;4mℹ Using CPU\u001b[0m\n",
            "\u001b[1m\n",
            "=========================== Initializing pipeline ===========================\u001b[0m\n",
            "\u001b[38;5;2m✔ Initialized pipeline\u001b[0m\n",
            "\u001b[1m\n",
            "============================= Training pipeline =============================\u001b[0m\n",
            "\u001b[38;5;4mℹ Pipeline: ['tok2vec', 'ner']\u001b[0m\n",
            "\u001b[38;5;4mℹ Initial learn rate: 0.001\u001b[0m\n",
            "E    #       LOSS TOK2VEC  LOSS NER  ENTS_F  ENTS_P  ENTS_R  SCORE \n",
            "---  ------  ------------  --------  ------  ------  ------  ------\n",
            "  0       0          0.00    153.29    0.55    0.91    0.39    0.01\n",
            "  7     200        499.25   3640.10   70.00   82.80   60.63    0.70\n",
            " 14     400        192.16   1153.36   87.20   97.10   79.13    0.87\n",
            " 22     600         72.20    471.57   93.66   97.45   90.16    0.94\n",
            " 30     800        117.10    435.09   95.67   95.67   95.67    0.96\n",
            " 40    1000         97.26    314.46   96.43   97.20   95.67    0.96\n",
            " 51    1200         96.63    232.85   97.84   97.65   98.03    0.98\n",
            " 65    1400        311.37    219.57   97.46   96.89   98.03    0.97\n",
            " 81    1600        129.49    227.94   98.43   98.43   98.43    0.98\n",
            "101    1800        125.51    232.96   98.81   99.21   98.43    0.99\n",
            "127    2000        440.32    253.24   98.82   98.82   98.82    0.99\n",
            "159    2200         92.65    240.60   98.81   99.21   98.43    0.99\n",
            "159    2200         92.65    240.60   98.81   99.21   98.43    0.99\n",
            "198    2400         48.37    250.91   98.82   98.44   99.21    0.99\n",
            "198    2400         48.37    250.91   98.82   98.44   99.21    0.99\n",
            "246    2600         85.11    303.28   98.82   98.44   99.21    0.99\n",
            "246    2600         85.11    303.28   98.82   98.44   99.21    0.99\n",
            "295    2800         68.32    287.54   98.82   98.82   98.82    0.99\n",
            "295    2800         68.32    287.54   98.82   98.82   98.82    0.99\n",
            "345    3000        105.53    290.70   98.82   98.44   99.21    0.99\n",
            "345    3000        105.53    290.70   98.82   98.44   99.21    0.99\n",
            "393    3200         28.88    256.28   98.82   98.82   98.82    0.99\n",
            "393    3200         28.88    256.28   98.82   98.82   98.82    0.99\n",
            "443    3400         31.69    254.55   98.81   99.21   98.43    0.99\n",
            "443    3400         31.69    254.55   98.81   99.21   98.43    0.99\n",
            "492    3600        150.51    313.65   98.62   98.43   98.82    0.99\n",
            "492    3600        150.51    313.65   98.62   98.43   98.82    0.99\n",
            "541    3800        110.70    279.27   98.82   98.44   99.21    0.99\n",
            "541    3800        110.70    279.27   98.82   98.44   99.21    0.99\n",
            "590    4000         53.70    269.63   98.82   98.44   99.21    0.99\n",
            "590    4000         53.70    269.63   98.82   98.44   99.21    0.99\n",
            "\u001b[38;5;2m✔ Saved pipeline to output directory\u001b[0m\n",
            "model-last\n",
            "\u001b[38;5;2m✔ Saved pipeline to output directory\u001b[0m\n",
            "model-last\n"
          ]
        }
      ],
      "source": [
        "!python -m spacy train config.cfg --output ./ --paths.train ./train.spacy --paths.dev ./train.spacy"
      ]
    },
    {
      "cell_type": "code",
      "source": [
        "from sklearn.metrics import confusion_matrix\n"
      ],
      "metadata": {
        "id": "97egVUM--W3S"
      },
      "execution_count": null,
      "outputs": []
    },
    {
      "cell_type": "code",
      "execution_count": null,
      "metadata": {
        "id": "oftrbdAMaDvq"
      },
      "outputs": [],
      "source": [
        "from google.colab import drive\n",
        "drive.mount('/content/drive')"
      ]
    },
    {
      "cell_type": "code",
      "execution_count": null,
      "metadata": {
        "id": "uYfhbE013Hmh"
      },
      "outputs": [],
      "source": [
        "nlp_ner = spacy.load(\"model-best\")"
      ]
    },
    {
      "cell_type": "code",
      "execution_count": null,
      "metadata": {
        "id": "Fm4S7YXEhvow",
        "colab": {
          "base_uri": "https://localhost:8080/",
          "height": 787
        },
        "outputId": "d3167c02-3636-4809-b69d-433d12539cd0"
      },
      "outputs": [
        {
          "output_type": "display_data",
          "data": {
            "text/plain": [
              "<IPython.core.display.HTML object>"
            ],
            "text/html": [
              "<span class=\"tex2jax_ignore\"><div class=\"entities\" style=\"line-height: 2.5; direction: ltr\">  Medicine, diseases, and pathogens play integral roles in the field and psoriasis. These medications, typically administered by injection, target specific molecules involved in the inflammatory process, providing more targeted and effective therapy.In the realm of mental health, selective serotonin reuptake inhibitors (SSRIs), such as \n",
              "<mark class=\"entity\" style=\"background: #7DF6D9; padding: 0.45em 0.6em; margin: 0 0.25em; line-height: 1; border-radius: 0.35em;\">\n",
              "    fluoxetine\n",
              "    <span style=\"font-size: 0.8em; font-weight: bold; line-height: 1; border-radius: 0.35em; vertical-align: middle; margin-left: 0.5rem\">MEDICINE</span>\n",
              "</mark>\n",
              " and \n",
              "<mark class=\"entity\" style=\"background: #7DF6D9; padding: 0.45em 0.6em; margin: 0 0.25em; line-height: 1; border-radius: 0.35em;\">\n",
              "    sertraline\n",
              "    <span style=\"font-size: 0.8em; font-weight: bold; line-height: 1; border-radius: 0.35em; vertical-align: middle; margin-left: 0.5rem\">MEDICINE</span>\n",
              "</mark>\n",
              ", are commonly prescribed for conditions like depression and anxiety. These medications work by increasing the levels of serotonin, a neurotransmitter associated with mood regulation, in the brain.Corticosteroids, such as \n",
              "<mark class=\"entity\" style=\"background: #7DF6D9; padding: 0.45em 0.6em; margin: 0 0.25em; line-height: 1; border-radius: 0.35em;\">\n",
              "    hydrocortisone\n",
              "    <span style=\"font-size: 0.8em; font-weight: bold; line-height: 1; border-radius: 0.35em; vertical-align: middle; margin-left: 0.5rem\">MEDICINE</span>\n",
              "</mark>\n",
              ", find use in various dermatological conditions, including eczema and psoriasis. Topical \n",
              "<mark class=\"entity\" style=\"background: #7DF6D9; padding: 0.45em 0.6em; margin: 0 0.25em; line-height: 1; border-radius: 0.35em;\">\n",
              "    corticosteroids\n",
              "    <span style=\"font-size: 0.8em; font-weight: bold; line-height: 1; border-radius: 0.35em; vertical-align: middle; margin-left: 0.5rem\">MEDICINE</span>\n",
              "</mark>\n",
              " help reduce inflammation and alleviate symptoms like itching and redness when applied to the skin. of healthcare. Medicines, also known as pharmaceuticals, are substances designed to prevent, diagnose, treat, or cure diseases. They can range from over-the-counter drugs to prescription medications and are often formulated to target specific pathways or mechanisms within the body. Diseases, on the other hand, encompass a broad spectrum of abnormal conditions affecting the body's structure or function, leading to symptoms or signs of illness. They can be caused by various factors, including pathogens.Pathogens are microorganisms such as bacteria, viruses, fungi, and parasites that cause infectious diseases. Bacteria are single-celled organisms, viruses are genetic material surrounded by a protein coat, fungi are multicellular organisms, and parasites are organisms that live on or in a host organism. Understanding the interactions between medicines, diseases, and pathogens is crucial for effective healthcare. Antibiotics, for instance, are commonly prescribed to combat bacterial infections, while antiviral drugs target viral infections.In some cases, diseases are caused by an overactive immune system, leading to conditions like autoimmune diseases. Medications such as immunosuppressants are prescribed to manage these conditions by suppressing the immune response. Vaccines, another category of medicines, stimulate the immune system to provide protection against specific pathogens, preventing diseases like influenza or measles.In conclusion, the interconnected web of medicines, diseases, and pathogens underscores the complexity of healthcare. Ongoing research and advancements in medical science continue to expand our understanding In the field of infectious diseases, antiviral medications like \n",
              "<mark class=\"entity\" style=\"background: #7DF6D9; padding: 0.45em 0.6em; margin: 0 0.25em; line-height: 1; border-radius: 0.35em;\">\n",
              "    oseltamivir\n",
              "    <span style=\"font-size: 0.8em; font-weight: bold; line-height: 1; border-radius: 0.35em; vertical-align: middle; margin-left: 0.5rem\">MEDICINE</span>\n",
              "</mark>\n",
              " (Tamiflu) play a crucial role in treating influenza. These drugs inhibit the replication of the influenza virus, helping to alleviate symptoms and shorten the duration of the illness when taken early in the course of the infection.Opioids, like oxycodone and \n",
              "<mark class=\"entity\" style=\"background: #7DF6D9; padding: 0.45em 0.6em; margin: 0 0.25em; line-height: 1; border-radius: 0.35em;\">\n",
              "    morphine\n",
              "    <span style=\"font-size: 0.8em; font-weight: bold; line-height: 1; border-radius: 0.35em; vertical-align: middle; margin-left: 0.5rem\">MEDICINE</span>\n",
              "</mark>\n",
              ", are potent pain relievers often prescribed for \n",
              "<mark class=\"entity\" style=\"background: #a6e22d; padding: 0.45em 0.6em; margin: 0 0.25em; line-height: 1; border-radius: 0.35em;\">\n",
              "    severe pain\n",
              "    <span style=\"font-size: 0.8em; font-weight: bold; line-height: 1; border-radius: 0.35em; vertical-align: middle; margin-left: 0.5rem\">MEDICALCONDITION</span>\n",
              "</mark>\n",
              ", such as that resulting from surgery or cancer. However, the opioid epidemic has highlighted the risks of dependency and overdose associated with these medications, prompting increased scrutiny and efforts to find alternative pain management strategies.Autoimmune diseases, such as lupus and multiple sclerosis, often require immunosuppressive medications like \n",
              "<mark class=\"entity\" style=\"background: #7DF6D9; padding: 0.45em 0.6em; margin: 0 0.25em; line-height: 1; border-radius: 0.35em;\">\n",
              "    methotrexate\n",
              "    <span style=\"font-size: 0.8em; font-weight: bold; line-height: 1; border-radius: 0.35em; vertical-align: middle; margin-left: 0.5rem\">MEDICINE</span>\n",
              "</mark>\n",
              " or azathioprine.hese drugs help modulate the overactive immune response responsible for attacking the body's own tissues.Biologic drugs, like adalimumab and \n",
              "<mark class=\"entity\" style=\"background: #7DF6D9; padding: 0.45em 0.6em; margin: 0 0.25em; line-height: 1; border-radius: 0.35em;\">\n",
              "    infliximab\n",
              "    <span style=\"font-size: 0.8em; font-weight: bold; line-height: 1; border-radius: 0.35em; vertical-align: middle; margin-left: 0.5rem\">MEDICINE</span>\n",
              "</mark>\n",
              ", have revolutionized the treatment of conditions such as \n",
              "<mark class=\"entity\" style=\"background: #a6e22d; padding: 0.45em 0.6em; margin: 0 0.25em; line-height: 1; border-radius: 0.35em;\">\n",
              "    rheumatoid arthritis\n",
              "    <span style=\"font-size: 0.8em; font-weight: bold; line-height: 1; border-radius: 0.35em; vertical-align: middle; margin-left: 0.5rem\">MEDICALCONDITION</span>\n",
              "</mark>\n",
              "  and ability to combat various health challenges, promoting the well-being of individuals and communities worldwide.</div></span>"
            ]
          },
          "metadata": {}
        }
      ],
      "source": [
        "doc = nlp_ner(\"  Medicine, diseases, and pathogens play integral roles in the field and psoriasis. These medications, typically administered by injection, target specific molecules involved in the inflammatory process, providing more targeted and effective therapy.In the realm of mental health, selective serotonin reuptake inhibitors (SSRIs), such as fluoxetine and sertraline, are commonly prescribed for conditions like depression and anxiety. These medications work by increasing the levels of serotonin, a neurotransmitter associated with mood regulation, in the brain.Corticosteroids, such as hydrocortisone, find use in various dermatological conditions, including eczema and psoriasis. Topical corticosteroids help reduce inflammation and alleviate symptoms like itching and redness when applied to the skin. of healthcare. Medicines, also known as pharmaceuticals, are substances designed to prevent, diagnose, treat, or cure diseases. They can range from over-the-counter drugs to prescription medications and are often formulated to target specific pathways or mechanisms within the body. Diseases, on the other hand, encompass a broad spectrum of abnormal conditions affecting the body's structure or function, leading to symptoms or signs of illness. They can be caused by various factors, including pathogens.Pathogens are microorganisms such as bacteria, viruses, fungi, and parasites that cause infectious diseases. Bacteria are single-celled organisms, viruses are genetic material surrounded by a protein coat, fungi are multicellular organisms, and parasites are organisms that live on or in a host organism. Understanding the interactions between medicines, diseases, and pathogens is crucial for effective healthcare. Antibiotics, for instance, are commonly prescribed to combat bacterial infections, while antiviral drugs target viral infections.In some cases, diseases are caused by an overactive immune system, leading to conditions like autoimmune diseases. Medications such as immunosuppressants are prescribed to manage these conditions by suppressing the immune response. Vaccines, another category of medicines, stimulate the immune system to provide protection against specific pathogens, preventing diseases like influenza or measles.In conclusion, the interconnected web of medicines, diseases, and pathogens underscores the complexity of healthcare. Ongoing research and advancements in medical science continue to expand our understanding In the field of infectious diseases, antiviral medications like oseltamivir (Tamiflu) play a crucial role in treating influenza. These drugs inhibit the replication of the influenza virus, helping to alleviate symptoms and shorten the duration of the illness when taken early in the course of the infection.Opioids, like oxycodone and morphine, are potent pain relievers often prescribed for severe pain, such as that resulting from surgery or cancer. However, the opioid epidemic has highlighted the risks of dependency and overdose associated with these medications, prompting increased scrutiny and efforts to find alternative pain management strategies.Autoimmune diseases, such as lupus and multiple sclerosis, often require immunosuppressive medications like methotrexate or azathioprine.hese drugs help modulate the overactive immune response responsible for attacking the body's own tissues.Biologic drugs, like adalimumab and infliximab, have revolutionized the treatment of conditions such as rheumatoid arthritis  and ability to combat various health challenges, promoting the well-being of individuals and communities worldwide.\")\n",
        "colors = {\"PATHOGEN\": \"#F67DE3\", \"MEDICINE\": \"#7DF6D9\", \"MEDICALCONDITION\":\"#a6e22d\"}\n",
        "options = {\"colors\": colors}\n",
        "\n",
        "spacy.displacy.render(doc, style=\"ent\", options= options, jupyter=True)"
      ]
    }
  ],
  "metadata": {
    "colab": {
      "provenance": [],
      "include_colab_link": true
    },
    "kernelspec": {
      "display_name": "Python 3",
      "name": "python3"
    },
    "language_info": {
      "name": "python"
    }
  },
  "nbformat": 4,
  "nbformat_minor": 0
}